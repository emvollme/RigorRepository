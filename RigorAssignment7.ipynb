{
  "nbformat": 4,
  "nbformat_minor": 0,
  "metadata": {
    "colab": {
      "provenance": []
    },
    "kernelspec": {
      "name": "python3",
      "display_name": "Python 3"
    },
    "language_info": {
      "name": "python"
    }
  },
  "cells": [
    {
      "cell_type": "code",
      "execution_count": 5,
      "metadata": {
        "colab": {
          "base_uri": "https://localhost:8080/"
        },
        "id": "miIRsVe6WqGe",
        "outputId": "f105ad1a-be8b-42b2-862d-819e01d470ba"
      },
      "outputs": [
        {
          "output_type": "stream",
          "name": "stdout",
          "text": [
            "October 30, 2024\n",
            "210\n",
            "Proper data management, such as the use of repositories, use of clear code, tracking changes, and publishing to GitHub is essential to computational reproducibility. The use of repositories allows data to be accessible and in a central location to others in the field. This allows many different people to reanalyze data, which helps ensure analyses are reproducible. Use of clear code, by using easily understandable objects, writing comments, and making dependencies explicit will allow others to easily use or reproduce your code. Tracking changes is essential to transparency when it comes to computational analyses. Saving backup files and giving rationales for any changes to code or analyses will allow others to follow and understand why a particular researcher did an analysis or ran code a certain way. Publishing to GitHub is a way to accomplish using a central storage of code, change tracking, and collaboration, all of which are important for reproducibility.\n"
          ]
        }
      ],
      "source": [
        "print(\"October 30, 2024\")\n",
        "print(10*21)\n",
        "print(\"Proper data management, such as the use of repositories, use of clear code, tracking changes, and publishing to GitHub is essential to computational reproducibility. The use of repositories allows data to be accessible and in a central location to others in the field. This allows many different people to reanalyze data, which helps ensure analyses are reproducible. Use of clear code, by using easily understandable objects, writing comments, and making dependencies explicit will allow others to easily use or reproduce your code. Tracking changes is essential to transparency when it comes to computational analyses. Saving backup files and giving rationales for any changes to code or analyses will allow others to follow and understand why a particular researcher did an analysis or ran code a certain way. Publishing to GitHub is a way to accomplish using a central storage of code, change tracking, and collaboration, all of which are important for reproducibility.\")"
      ]
    },
    {
      "cell_type": "code",
      "source": [],
      "metadata": {
        "id": "46Hh7OL4Xjft"
      },
      "execution_count": null,
      "outputs": []
    }
  ]
}